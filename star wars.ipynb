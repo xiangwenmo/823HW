{
 "cells": [
  {
   "cell_type": "code",
   "execution_count": 1,
   "metadata": {},
   "outputs": [],
   "source": [
    "import requests\n",
    "import pandas as pd\n",
    "import numpy as np"
   ]
  },
  {
   "cell_type": "code",
   "execution_count": 11,
   "metadata": {},
   "outputs": [],
   "source": [
    "status_codes = []\n",
    "for i in range(1, 83):\n",
    "    person = requests.get('http://swapi.dev/api/people/{}/'.format(i))\n",
    "    status_codes.append(person.status_code)"
   ]
  },
  {
   "cell_type": "code",
   "execution_count": 6,
   "metadata": {},
   "outputs": [
    {
     "data": {
      "text/plain": [
       "name                NaN\n",
       "height              NaN\n",
       "mass                NaN\n",
       "hair_color          NaN\n",
       "skin_color          NaN\n",
       "eye_color           NaN\n",
       "birth_year          NaN\n",
       "gender              NaN\n",
       "homeworld           NaN\n",
       "films               NaN\n",
       "species             NaN\n",
       "vehicles            NaN\n",
       "starships           NaN\n",
       "created             NaN\n",
       "edited              NaN\n",
       "url                 NaN\n",
       "detail        Not found\n",
       "Name: 16, dtype: object"
      ]
     },
     "execution_count": 6,
     "metadata": {},
     "output_type": "execute_result"
    }
   ],
   "source": [
    "pd.DataFrame(status_codes).iloc[16,:]"
   ]
  },
  {
   "cell_type": "code",
   "execution_count": 75,
   "metadata": {},
   "outputs": [
    {
     "data": {
      "text/plain": [
       "(array([16]),)"
      ]
     },
     "execution_count": 75,
     "metadata": {},
     "output_type": "execute_result"
    }
   ],
   "source": [
    "np.where([code != 200 for code in status_codes])"
   ]
  },
  {
   "cell_type": "code",
   "execution_count": 78,
   "metadata": {},
   "outputs": [],
   "source": [
    "people = []\n",
    "i = 1\n",
    "while len(people) < 82:\n",
    "    person = requests.get('http://swapi.dev/api/people/{}/'.format(i))\n",
    "    if person.status_code == 200:\n",
    "        people.append(person.json())\n",
    "    else:\n",
    "        pass\n",
    "    i+=1"
   ]
  },
  {
   "cell_type": "code",
   "execution_count": 17,
   "metadata": {},
   "outputs": [],
   "source": [
    "people_df = pd.DataFrame(people)"
   ]
  },
  {
   "cell_type": "code",
   "execution_count": 21,
   "metadata": {},
   "outputs": [
    {
     "data": {
      "text/plain": [
       "Index(['name', 'height', 'mass', 'hair_color', 'skin_color', 'eye_color',\n",
       "       'birth_year', 'gender', 'homeworld', 'films', 'species', 'vehicles',\n",
       "       'starships', 'created', 'edited', 'url'],\n",
       "      dtype='object')"
      ]
     },
     "execution_count": 21,
     "metadata": {},
     "output_type": "execute_result"
    }
   ],
   "source": [
    "people_df.columns"
   ]
  },
  {
   "cell_type": "code",
   "execution_count": 79,
   "metadata": {},
   "outputs": [],
   "source": [
    "people_df['birth_year'] = people_df['birth_year'].replace('unknown', np.nan)"
   ]
  },
  {
   "cell_type": "code",
   "execution_count": 47,
   "metadata": {},
   "outputs": [
    {
     "data": {
      "text/plain": [
       "39"
      ]
     },
     "execution_count": 47,
     "metadata": {},
     "output_type": "execute_result"
    }
   ],
   "source": [
    "people_df.birth_year.isna().sum()"
   ]
  },
  {
   "cell_type": "code",
   "execution_count": 49,
   "metadata": {},
   "outputs": [
    {
     "data": {
      "text/plain": [
       "43"
      ]
     },
     "execution_count": 49,
     "metadata": {},
     "output_type": "execute_result"
    }
   ],
   "source": [
    "np.sum(people_df['birth_year'].str.contains('BBY'))"
   ]
  },
  {
   "cell_type": "code",
   "execution_count": 58,
   "metadata": {},
   "outputs": [],
   "source": [
    "people_df['birth_year'] = people_df['birth_year'].str.replace('BBY', '').astype('float')"
   ]
  },
  {
   "cell_type": "code",
   "execution_count": 61,
   "metadata": {},
   "outputs": [],
   "source": [
    "year_df = people_df.loc[:, ['name', 'birth_year', 'films']].sort_values('birth_year', ascending = False)"
   ]
  },
  {
   "cell_type": "code",
   "execution_count": 62,
   "metadata": {},
   "outputs": [
    {
     "data": {
      "text/html": [
       "<div>\n",
       "<style scoped>\n",
       "    .dataframe tbody tr th:only-of-type {\n",
       "        vertical-align: middle;\n",
       "    }\n",
       "\n",
       "    .dataframe tbody tr th {\n",
       "        vertical-align: top;\n",
       "    }\n",
       "\n",
       "    .dataframe thead th {\n",
       "        text-align: right;\n",
       "    }\n",
       "</style>\n",
       "<table border=\"1\" class=\"dataframe\">\n",
       "  <thead>\n",
       "    <tr style=\"text-align: right;\">\n",
       "      <th></th>\n",
       "      <th>name</th>\n",
       "      <th>birth_year</th>\n",
       "      <th>films</th>\n",
       "    </tr>\n",
       "  </thead>\n",
       "  <tbody>\n",
       "    <tr>\n",
       "      <th>18</th>\n",
       "      <td>Yoda</td>\n",
       "      <td>896.0</td>\n",
       "      <td>[http://swapi.dev/api/films/2/, http://swapi.d...</td>\n",
       "    </tr>\n",
       "    <tr>\n",
       "      <th>15</th>\n",
       "      <td>Jabba Desilijic Tiure</td>\n",
       "      <td>600.0</td>\n",
       "      <td>[http://swapi.dev/api/films/1/, http://swapi.d...</td>\n",
       "    </tr>\n",
       "    <tr>\n",
       "      <th>12</th>\n",
       "      <td>Chewbacca</td>\n",
       "      <td>200.0</td>\n",
       "      <td>[http://swapi.dev/api/films/1/, http://swapi.d...</td>\n",
       "    </tr>\n",
       "    <tr>\n",
       "      <th>1</th>\n",
       "      <td>C-3PO</td>\n",
       "      <td>112.0</td>\n",
       "      <td>[http://swapi.dev/api/films/1/, http://swapi.d...</td>\n",
       "    </tr>\n",
       "    <tr>\n",
       "      <th>65</th>\n",
       "      <td>Dooku</td>\n",
       "      <td>102.0</td>\n",
       "      <td>[http://swapi.dev/api/films/5/, http://swapi.d...</td>\n",
       "    </tr>\n",
       "  </tbody>\n",
       "</table>\n",
       "</div>"
      ],
      "text/plain": [
       "                     name  birth_year  \\\n",
       "18                   Yoda       896.0   \n",
       "15  Jabba Desilijic Tiure       600.0   \n",
       "12              Chewbacca       200.0   \n",
       "1                   C-3PO       112.0   \n",
       "65                  Dooku       102.0   \n",
       "\n",
       "                                                films  \n",
       "18  [http://swapi.dev/api/films/2/, http://swapi.d...  \n",
       "15  [http://swapi.dev/api/films/1/, http://swapi.d...  \n",
       "12  [http://swapi.dev/api/films/1/, http://swapi.d...  \n",
       "1   [http://swapi.dev/api/films/1/, http://swapi.d...  \n",
       "65  [http://swapi.dev/api/films/5/, http://swapi.d...  "
      ]
     },
     "execution_count": 62,
     "metadata": {},
     "output_type": "execute_result"
    }
   ],
   "source": [
    "year_df.head()"
   ]
  },
  {
   "cell_type": "code",
   "execution_count": 65,
   "metadata": {},
   "outputs": [],
   "source": [
    "yoda_film = year_df.iloc[0,:].films"
   ]
  },
  {
   "cell_type": "code",
   "execution_count": 66,
   "metadata": {},
   "outputs": [],
   "source": [
    "film_names = []\n",
    "for film in yoda_film:\n",
    "    film_name = requests.get(film).json()\n",
    "    film_names.append(film_name)"
   ]
  },
  {
   "cell_type": "code",
   "execution_count": 85,
   "metadata": {},
   "outputs": [
    {
     "data": {
      "text/plain": [
       "0    The Empire Strikes Back\n",
       "1         Return of the Jedi\n",
       "2         The Phantom Menace\n",
       "3       Attack of the Clones\n",
       "4        Revenge of the Sith\n",
       "Name: title, dtype: object"
      ]
     },
     "execution_count": 85,
     "metadata": {},
     "output_type": "execute_result"
    }
   ],
   "source": [
    "pd.DataFrame(film_names).title"
   ]
  },
  {
   "cell_type": "code",
   "execution_count": null,
   "metadata": {},
   "outputs": [],
   "source": []
  }
 ],
 "metadata": {
  "kernelspec": {
   "display_name": "Python 3",
   "language": "python",
   "name": "python3"
  },
  "language_info": {
   "codemirror_mode": {
    "name": "ipython",
    "version": 3
   },
   "file_extension": ".py",
   "mimetype": "text/x-python",
   "name": "python",
   "nbconvert_exporter": "python",
   "pygments_lexer": "ipython3",
   "version": "3.7.8"
  }
 },
 "nbformat": 4,
 "nbformat_minor": 4
}
