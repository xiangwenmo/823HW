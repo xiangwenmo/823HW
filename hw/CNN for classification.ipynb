{
 "cells": [
  {
   "cell_type": "code",
   "execution_count": 3,
   "metadata": {},
   "outputs": [],
   "source": [
    "%matplotlib inline\n",
    "import matplotlib.pyplot as plt\n",
    "import torch\n",
    "from torch import nn\n",
    "import torch.nn.functional as F\n",
    "from torch import optim\n",
    "from torchvision import datasets, transforms\n",
    "import numpy as np"
   ]
  },
  {
   "cell_type": "code",
   "execution_count": 96,
   "metadata": {},
   "outputs": [],
   "source": [
    "transform = transforms.Compose([transforms.Resize((100, 100)),\n",
    "                                    transforms.ToTensor(),\n",
    "                                   ])\n",
    "train_images = datasets.ImageFolder('insects/train', transform = transform)\n",
    "train_loader = torch.utils.data.DataLoader(train_images, batch_size = 32, shuffle = True)\n",
    "test_images = datasets.ImageFolder('insects/test', transform = transform)\n",
    "test_loader = torch.utils.data.DataLoader(test_images, batch_size = 32, shuffle = True)"
   ]
  },
  {
   "cell_type": "code",
   "execution_count": 80,
   "metadata": {},
   "outputs": [
    {
     "data": {
      "text/plain": [
       "torch.Size([3, 84, 84])"
      ]
     },
     "execution_count": 80,
     "metadata": {},
     "output_type": "execute_result"
    }
   ],
   "source": [
    "#check image size\n",
    "train_images[0][0].size()"
   ]
  },
  {
   "cell_type": "code",
   "execution_count": 100,
   "metadata": {},
   "outputs": [],
   "source": [
    "class LeNet(nn.Module):\n",
    "    def __init__(self):\n",
    "        super().__init__()\n",
    "\n",
    "        self.features = nn.Sequential(            \n",
    "            nn.Conv2d(in_channels=3, out_channels=16, kernel_size=3, stride = 2, padding=1),\n",
    "            nn.ReLU(),\n",
    "            nn.MaxPool2d(kernel_size=2),\n",
    "            nn.Conv2d(in_channels=16, out_channels=64, kernel_size=3, stride=1, padding=1),\n",
    "            nn.ReLU(),\n",
    "            nn.MaxPool2d(kernel_size=2),    \n",
    "        )\n",
    "\n",
    "        self.classifier = nn.Sequential(\n",
    "            nn.Linear(in_features=64*12*12, out_features=256),\n",
    "            nn.ReLU(),\n",
    "            nn.Linear(in_features=256, out_features = 100),\n",
    "            nn.ReLU(),\n",
    "            nn.Linear(in_features = 100, out_features = 3)\n",
    "        )\n",
    "\n",
    "\n",
    "    def forward(self, x):\n",
    "        x = self.features(x)\n",
    "        x = x.view(x.shape[0], -1)\n",
    "        x = self.classifier(x)\n",
    "        \n",
    "        return x"
   ]
  },
  {
   "cell_type": "code",
   "execution_count": 82,
   "metadata": {},
   "outputs": [],
   "source": [
    "model = LeNet()"
   ]
  },
  {
   "cell_type": "code",
   "execution_count": 83,
   "metadata": {},
   "outputs": [
    {
     "name": "stdout",
     "output_type": "stream",
     "text": [
      "torch.Size([32, 3, 84, 84])\n",
      "torch.Size([32])\n"
     ]
    }
   ],
   "source": [
    "dataiter = iter(train_loader)\n",
    "images, labels = dataiter.next()\n",
    "\n",
    "print(images.shape)\n",
    "print(labels.shape)"
   ]
  },
  {
   "cell_type": "code",
   "execution_count": 84,
   "metadata": {},
   "outputs": [
    {
     "name": "stdout",
     "output_type": "stream",
     "text": [
      "LeNet(\n",
      "  (feature_extractor): Sequential(\n",
      "    (0): Conv2d(3, 16, kernel_size=(3, 3), stride=(1, 1), padding=(1, 1))\n",
      "    (1): ReLU()\n",
      "    (2): MaxPool2d(kernel_size=2, stride=2, padding=0, dilation=1, ceil_mode=False)\n",
      "    (3): Conv2d(16, 32, kernel_size=(3, 3), stride=(1, 1))\n",
      "    (4): ReLU()\n",
      "    (5): MaxPool2d(kernel_size=2, stride=2, padding=0, dilation=1, ceil_mode=False)\n",
      "  )\n",
      "  (classifier): Sequential(\n",
      "    (0): Linear(in_features=9216, out_features=256, bias=True)\n",
      "    (1): ReLU()\n",
      "    (2): Linear(in_features=256, out_features=100, bias=True)\n",
      "    (3): ReLU()\n",
      "    (4): Linear(in_features=100, out_features=3, bias=True)\n",
      "  )\n",
      ")\n"
     ]
    }
   ],
   "source": [
    "print(model)"
   ]
  },
  {
   "cell_type": "code",
   "execution_count": 85,
   "metadata": {},
   "outputs": [],
   "source": [
    "DEVICE = 'cuda' if torch.cuda.is_available() else 'cpu'"
   ]
  },
  {
   "cell_type": "code",
   "execution_count": 94,
   "metadata": {},
   "outputs": [],
   "source": [
    "def get_accuracy(model, data_loader, device):\n",
    "    '''function for computing accuracy'''\n",
    "    \n",
    "    correct = 0\n",
    "    n = 0\n",
    "    \n",
    "    with torch.no_grad():\n",
    "        model.eval()\n",
    "        for X, y_true in data_loader:\n",
    "            X = X.to(device)\n",
    "            y_true = y_true.to(device)\n",
    "            \n",
    "            y_hat = model(X)\n",
    "            predictions = torch.argmax(y_hat, dim=1)\n",
    "            correct += (predictions == y_true).sum()\n",
    "            n+= y_true.size(0)\n",
    "    return correct.float()/n"
   ]
  },
  {
   "cell_type": "code",
   "execution_count": 87,
   "metadata": {},
   "outputs": [],
   "source": [
    "def train(train_loader, model, criterion, optimizer, device):\n",
    "    model.train()\n",
    "    running_loss = 0\n",
    "    \n",
    "    for X, y_true in train_loader:\n",
    "        optimizer.zero_grad()\n",
    "        \n",
    "        X = X.to(device)\n",
    "        y_true = y_true.to(device)\n",
    "        \n",
    "        # Forward pass\n",
    "        y_hat =model(X)\n",
    "        loss = criterion(y_hat, y_true)\n",
    "        running_loss += loss.item()\n",
    "\n",
    "        # Backward pass\n",
    "        loss.backward()\n",
    "        optimizer.step()\n",
    "        \n",
    "        \n",
    "        \n",
    "    epoch_loss = running_loss/len(train_loader.dataset)\n",
    "    return model, optimizer, epoch_loss"
   ]
  },
  {
   "cell_type": "code",
   "execution_count": 88,
   "metadata": {},
   "outputs": [],
   "source": [
    "def test(test_loader, model, criterion, device):\n",
    "    model.eval()\n",
    "    running_loss = 0\n",
    "    \n",
    "    for X, y_true in test_loader:\n",
    "        \n",
    "        X = X.to(device)\n",
    "        y_true = y_true.to(device)\n",
    "        \n",
    "        y_hat = model(X)\n",
    "        loss = criterion(y_hat, y_true)\n",
    "        running_loss += loss.item()\n",
    "    epoch_loss = running_loss/len(test_loader.dataset)\n",
    "    \n",
    "    return model, epoch_loss"
   ]
  },
  {
   "cell_type": "code",
   "execution_count": 89,
   "metadata": {},
   "outputs": [],
   "source": [
    "def training_loop(model, criterion, optimizer, train_loader,test_loader,epochs,device, print_every = 1):\n",
    "    best_loss = 1e10\n",
    "    train_losses = []\n",
    "    test_losses = []\n",
    "    \n",
    "    for epoch in range(epochs):\n",
    "        \n",
    "        #training\n",
    "        model, optimizer, train_loss = train(train_loader, model, criterion, optimizer, device)\n",
    "        train_losses.append(train_loss)\n",
    "        \n",
    "        #test\n",
    "        with torch.no_grad():\n",
    "            model, test_loss = test(test_loader, model, criterion, device)\n",
    "            test_losses.append(test_loss)\n",
    "        \n",
    "        if epoch%print_every == (print_every -1):\n",
    "            \n",
    "            train_acc = get_accuracy(model, train_loader, device=device)\n",
    "            test_acc = get_accuracy(model, test_loader, device = device)\n",
    "            \n",
    "            print(f'Epoch: {epoch}\\t'\n",
    "                  f'train loss: {train_loss: .5f}\\t'\n",
    "                  f'test loss : {test_loss: .5f}\\t'\n",
    "                  f'train accuracy: {100*train_acc:.3f}\\t'\n",
    "                  f'test accuracy: {100*test_acc:.3f}')\n",
    "            \n",
    "    return model, optimizer, (train_losses, test_losses)\n",
    "                 "
   ]
  },
  {
   "cell_type": "code",
   "execution_count": 101,
   "metadata": {},
   "outputs": [
    {
     "name": "stdout",
     "output_type": "stream",
     "text": [
      "Epoch: 0\ttrain loss:  0.02561\ttest loss :  0.02357\ttrain accuracy: 78.606\ttest accuracy: 73.333\n",
      "Epoch: 1\ttrain loss:  0.01584\ttest loss :  0.01784\ttrain accuracy: 85.574\ttest accuracy: 82.222\n",
      "Epoch: 2\ttrain loss:  0.01275\ttest loss :  0.01670\ttrain accuracy: 88.616\ttest accuracy: 83.889\n",
      "Epoch: 3\ttrain loss:  0.01255\ttest loss :  0.02040\ttrain accuracy: 82.336\ttest accuracy: 72.222\n",
      "Epoch: 4\ttrain loss:  0.01054\ttest loss :  0.01247\ttrain accuracy: 90.579\ttest accuracy: 84.444\n",
      "Epoch: 5\ttrain loss:  0.00866\ttest loss :  0.01471\ttrain accuracy: 88.224\ttest accuracy: 81.111\n",
      "Epoch: 6\ttrain loss:  0.00769\ttest loss :  0.00954\ttrain accuracy: 92.836\ttest accuracy: 89.444\n",
      "Epoch: 7\ttrain loss:  0.00642\ttest loss :  0.00982\ttrain accuracy: 92.836\ttest accuracy: 87.222\n",
      "Epoch: 8\ttrain loss:  0.00580\ttest loss :  0.00676\ttrain accuracy: 93.916\ttest accuracy: 91.667\n",
      "Epoch: 9\ttrain loss:  0.00441\ttest loss :  0.00554\ttrain accuracy: 94.701\ttest accuracy: 93.889\n",
      "Epoch: 10\ttrain loss:  0.00334\ttest loss :  0.00390\ttrain accuracy: 97.547\ttest accuracy: 96.111\n",
      "Epoch: 11\ttrain loss:  0.00235\ttest loss :  0.00293\ttrain accuracy: 98.724\ttest accuracy: 97.778\n",
      "Epoch: 12\ttrain loss:  0.00203\ttest loss :  0.00168\ttrain accuracy: 98.724\ttest accuracy: 98.889\n",
      "Epoch: 13\ttrain loss:  0.00135\ttest loss :  0.00210\ttrain accuracy: 97.743\ttest accuracy: 97.222\n",
      "Epoch: 14\ttrain loss:  0.00137\ttest loss :  0.00124\ttrain accuracy: 99.607\ttest accuracy: 99.444\n"
     ]
    }
   ],
   "source": [
    "model = LeNet().to(DEVICE)\n",
    "optimizer = torch.optim.Adam(model.parameters(), lr = 0.001)\n",
    "epochs = 15\n",
    "criterion = nn.CrossEntropyLoss()\n",
    "model, optimizer, losses = training_loop(model, criterion, optimizer, train_loader, test_loader, epochs, DEVICE)"
   ]
  },
  {
   "cell_type": "code",
   "execution_count": 143,
   "metadata": {},
   "outputs": [
    {
     "data": {
      "image/png": "[encoded data removed]",
      "text/plain": [
       "<Figure size 432x288 with 1 Axes>"
      ]
     },
     "metadata": {
      "needs_background": "light"
     },
     "output_type": "display_data"
    }
   ],
   "source": [
    "train_losses = np.array(losses[0])\n",
    "test_losses = np.array(losses[1])\n",
    "plt.plot(train_losses, color = 'b', label = 'train loss')\n",
    "plt.plot(test_losses, color = 'r', label = 'test loss')\n",
    "plt.title('loss over epochs')\n",
    "plt.xlabel('Epochs')\n",
    "plt.ylabel('losses')\n",
    "plt.legend();"
   ]
  },
  {
   "cell_type": "code",
   "execution_count": null,
   "metadata": {},
   "outputs": [],
   "source": []
  }
 ],
 "metadata": {
  "kernelspec": {
   "display_name": "Python 3",
   "language": "python",
   "name": "python3"
  },
  "language_info": {
   "codemirror_mode": {
    "name": "ipython",
    "version": 3
   },
   "file_extension": ".py",
   "mimetype": "text/x-python",
   "name": "python",
   "nbconvert_exporter": "python",
   "pygments_lexer": "ipython3",
   "version": "3.7.8"
  }
 },
 "nbformat": 4,
 "nbformat_minor": 2
}
