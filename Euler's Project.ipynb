{
 "cells": [
  {
   "cell_type": "markdown",
   "metadata": {},
   "source": [
    "## Problem 7 10001st prime (420,695) \n",
    "\n",
    "By listing the first six prime numbers: 2, 3, 5, 7, 11, and 13, we can see that the 6th prime is 13.\n",
    "\n",
    "What is the 10 001st prime number?"
   ]
  },
  {
   "cell_type": "code",
   "execution_count": 94,
   "metadata": {},
   "outputs": [],
   "source": [
    "def getprime(n):\n",
    "    primes = []\n",
    "    x = 2\n",
    "    '''\n",
    "    this function takes n as the input to identify which prime number you want to extract\n",
    "    include the inner function is_prime to check whether the number is divisible \n",
    "    check up to the sqrt of the number to reduce workload and save time\n",
    "    '''\n",
    "    \n",
    "    def is_prime(num):\n",
    "        '''inner function to check if the number is prime'''\n",
    "        for i in range(2, int(num ** 0.5) + 1):\n",
    "            if num%i == 0:\n",
    "                return False\n",
    "        return True\n",
    "    \n",
    "    while len(primes)!= n:\n",
    "        if is_prime(x):\n",
    "            primes.append(x)\n",
    "        x+=1\n",
    "    return primes[-1]"
   ]
  },
  {
   "cell_type": "code",
   "execution_count": 95,
   "metadata": {},
   "outputs": [
    {
     "data": {
      "text/plain": [
       "13"
      ]
     },
     "execution_count": 95,
     "metadata": {},
     "output_type": "execute_result"
    }
   ],
   "source": [
    "getprime(6)"
   ]
  },
  {
   "cell_type": "code",
   "execution_count": 96,
   "metadata": {},
   "outputs": [
    {
     "data": {
      "text/plain": [
       "104743"
      ]
     },
     "execution_count": 96,
     "metadata": {},
     "output_type": "execute_result"
    }
   ],
   "source": [
    "getprime(10001)"
   ]
  },
  {
   "cell_type": "markdown",
   "metadata": {},
   "source": [
    "## Problem 26 Reciprocal cycles (82,622)\n",
    "Find the value of d < 1000 for which 1/d contains the longest recurring cycle in its decimal fraction part."
   ]
  },
  {
   "cell_type": "code",
   "execution_count": 155,
   "metadata": {},
   "outputs": [],
   "source": [
    "def recuring_cyc(n):\n",
    "    '''\n",
    "    this function take input n as the upper bound for d\n",
    "    First find all prime numbers in the given range and apply Fermat's little theorem\n",
    "    to find the first full reptend prime number d that below the given limit\n",
    "    '''\n",
    "    def find_primes(n):\n",
    "        \n",
    "        '''inner function to find all primes in first n natural numbers using\n",
    "        the Sieve of Eratosthenes algorithm'''\n",
    "        \n",
    "        primes = [1]*n\n",
    "        primes[0] = primes[1] = 0\n",
    "        for i in range(2, int(n**0.5)+1):\n",
    "            if primes[i]:\n",
    "                primes[i*i:n:i] = [0] * ((n-1-i*i)//i+1)\n",
    "        return [i for i, x in enumerate(primes) if x == 1]\n",
    "    \n",
    "    primes = find_primes(n)\n",
    "    for d in primes[::-1]:\n",
    "        p = 1\n",
    "        while (10 ** p) % d != 1: \n",
    "            p+=1\n",
    "        if d-1 == p: \n",
    "            break\n",
    "    return d"
   ]
  },
  {
   "cell_type": "code",
   "execution_count": 156,
   "metadata": {},
   "outputs": [
    {
     "data": {
      "text/plain": [
       "7"
      ]
     },
     "execution_count": 156,
     "metadata": {},
     "output_type": "execute_result"
    }
   ],
   "source": [
    "recuring_cyc(8)"
   ]
  },
  {
   "cell_type": "code",
   "execution_count": 157,
   "metadata": {},
   "outputs": [
    {
     "data": {
      "text/plain": [
       "983"
      ]
     },
     "execution_count": 157,
     "metadata": {},
     "output_type": "execute_result"
    }
   ],
   "source": [
    "recuring_cyc(1000)"
   ]
  },
  {
   "cell_type": "markdown",
   "metadata": {},
   "source": [
    "## Problem 80 Square root digital expansion (19,014)\n",
    "For the first one hundred natural numbers, find the total of the digital sums of the first one hundred decimal digits for all the irrational square roots."
   ]
  },
  {
   "cell_type": "code",
   "execution_count": 33,
   "metadata": {},
   "outputs": [],
   "source": [
    "from decimal import localcontext, Decimal"
   ]
  },
  {
   "cell_type": "code",
   "execution_count": 54,
   "metadata": {},
   "outputs": [],
   "source": [
    "def sqr_sum(n):\n",
    "    '''\n",
    "    this function takes the total of the digital sums of the first 100 decimal digits \n",
    "    for the first n natural numbers\n",
    "    '''\n",
    "    sums = 0\n",
    "    for x in range(2, n+1):\n",
    "        if int(x**0.5)**2 != x:\n",
    "            with localcontext() as ctx:\n",
    "                ctx.prec = 102\n",
    "                root = str(Decimal(x).sqrt()).replace(\".\", \"\")\n",
    "                sums += sum([int(root[j]) for j in range(100)])\n",
    "    return sums"
   ]
  },
  {
   "cell_type": "code",
   "execution_count": 61,
   "metadata": {},
   "outputs": [
    {
     "data": {
      "text/plain": [
       "475"
      ]
     },
     "execution_count": 61,
     "metadata": {},
     "output_type": "execute_result"
    }
   ],
   "source": [
    "sqr_sum(2)"
   ]
  },
  {
   "cell_type": "code",
   "execution_count": 62,
   "metadata": {},
   "outputs": [
    {
     "data": {
      "text/plain": [
       "40886"
      ]
     },
     "execution_count": 62,
     "metadata": {},
     "output_type": "execute_result"
    }
   ],
   "source": [
    "sqr_sum(100)"
   ]
  }
 ],
 "metadata": {
  "kernelspec": {
   "display_name": "Python 3",
   "language": "python",
   "name": "python3"
  },
  "language_info": {
   "codemirror_mode": {
    "name": "ipython",
    "version": 3
   },
   "file_extension": ".py",
   "mimetype": "text/x-python",
   "name": "python",
   "nbconvert_exporter": "python",
   "pygments_lexer": "ipython3",
   "version": "3.7.3"
  }
 },
 "nbformat": 4,
 "nbformat_minor": 4
}
